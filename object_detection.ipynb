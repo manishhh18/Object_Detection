{
 "cells": [
  {
   "cell_type": "code",
   "execution_count": null,
   "metadata": {},
   "outputs": [],
   "source": [
    "!git clone https://github.com/ultralytics/yolov5  # Clone the YOLOv5 repository\n",
    "%cd yolov5"
   ]
  },
  {
   "cell_type": "code",
   "execution_count": null,
   "metadata": {},
   "outputs": [],
   "source": [
    "!pip install -r requirements.txt  # Install required dependencies"
   ]
  },
  {
   "cell_type": "code",
   "execution_count": null,
   "metadata": {},
   "outputs": [],
   "source": [
    "# Import required libraries\n",
    "import torch\n",
    "from google.colab import files\n",
    "import cv2\n",
    "import numpy as np\n",
    "import matplotlib.pyplot as plt"
   ]
  },
  {
   "cell_type": "code",
   "execution_count": null,
   "metadata": {},
   "outputs": [],
   "source": [
    "# Upload an image\n",
    "uploaded = files.upload()"
   ]
  },
  {
   "cell_type": "code",
   "execution_count": null,
   "metadata": {},
   "outputs": [],
   "source": [
    "# Check if an image has been uploaded\n",
    "if uploaded:\n",
    "    # Load the uploaded image\n",
    "    image_file = list(uploaded.keys())[0]\n",
    "    image = cv2.imread(image_file)\n",
    "\n",
    "    # Check if the image is loaded properly\n",
    "    if image is not None:\n",
    "        # Convert the image to RGB\n",
    "        image_rgb = cv2.cvtColor(image, cv2.COLOR_BGR2RGB)\n",
    "\n",
    "        # Perform inference using YOLOv5\n",
    "        results = torch.hub.load('ultralytics/yolov5', 'yolov5s', pretrained=True)  # Load YOLOv5s model\n",
    "        results = results(image_rgb)  # Inference\n",
    "\n",
    "        # Results\n",
    "        results.print()  # Print results to console\n",
    "        results.show()  # Display detected image\n",
    "\n",
    "        # Optionally, save results to a file\n",
    "        results.save()  # Save predictions\n",
    "    else:\n",
    "        print(\"Error: Unable to load the image.\")\n",
    "else:\n",
    "    print(\"Error: No image uploaded.\")"
   ]
  }
 ],
 "metadata": {
  "kernelspec": {
   "display_name": "Python 3",
   "language": "python",
   "name": "python3"
  },
  "language_info": {
   "codemirror_mode": {
    "name": "ipython",
    "version": 3
   },
   "file_extension": ".py",
   "mimetype": "text/x-python",
   "name": "python",
   "nbconvert_exporter": "python",
   "pygments_lexer": "ipython3",
   "version": "3.10.12"
  }
 },
 "nbformat": 4,
 "nbformat_minor": 2
}
